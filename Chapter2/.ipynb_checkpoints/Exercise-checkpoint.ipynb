{
 "cells": [
  {
   "cell_type": "markdown",
   "metadata": {},
   "source": [
    "# Variables Book Exercise"
   ]
  },
  {
   "cell_type": "code",
   "execution_count": 1,
   "metadata": {},
   "outputs": [
    {
     "name": "stdout",
     "output_type": "stream",
     "text": [
      "name\n"
     ]
    }
   ],
   "source": [
    "# Ex 2-1\n",
    "\n",
    "message = \"name\"\n",
    "print(message)"
   ]
  },
  {
   "cell_type": "code",
   "execution_count": 5,
   "metadata": {},
   "outputs": [
    {
     "name": "stdout",
     "output_type": "stream",
     "text": [
      "My name is Affan\n"
     ]
    }
   ],
   "source": [
    "# Ex 2-2\n",
    "\n",
    "message = \"name\"\n",
    "message=\"My name is Affan\"\n",
    "print(message)"
   ]
  },
  {
   "cell_type": "code",
   "execution_count": 6,
   "metadata": {},
   "outputs": [
    {
     "name": "stdout",
     "output_type": "stream",
     "text": [
      "Hello Muhammad Affan Ali, would you like to learn some Python today\n"
     ]
    }
   ],
   "source": [
    "# Ex 2-3\n",
    "\n",
    "fName=\"Muhammad\"\n",
    "lName=\"Affan Ali\"\n",
    "fullName= fName + \" \" + lName\n",
    "print( f\"Hello {fullName}, would you like to learn some Python today\")"
   ]
  },
  {
   "cell_type": "code",
   "execution_count": 7,
   "metadata": {},
   "outputs": [
    {
     "name": "stdout",
     "output_type": "stream",
     "text": [
      "This is title ==>  My Name Is Affan\n",
      "This is a Lower Case ==>   my name is affan\n",
      "This is a Upper Case ==>  MY NAME IS AFFAN\n"
     ]
    }
   ],
   "source": [
    "# Ex 2-4\n",
    "\n",
    "var = \"my Name is Affan\"\n",
    "print(\"This is title ==> \" ,var.title())\n",
    "print(\"This is a Lower Case ==>  \",var.lower())\n",
    "print(\"This is a Upper Case ==> \",var.upper())"
   ]
  },
  {
   "cell_type": "code",
   "execution_count": 10,
   "metadata": {},
   "outputs": [
    {
     "name": "stdout",
     "output_type": "stream",
     "text": [
      "Albert Einstein once said, \"A person who never made amistake never tried anything new.\"\n"
     ]
    }
   ],
   "source": [
    "# EX 2-5\n",
    "\n",
    "print('Albert Einstein once said, \"A person who never made amistake never tried anything new.\"')"
   ]
  },
  {
   "cell_type": "code",
   "execution_count": 12,
   "metadata": {},
   "outputs": [
    {
     "name": "stdout",
     "output_type": "stream",
     "text": [
      "Muhammad Affan Ali once said, \"A person who never made amistake never tried anything new.\"\n"
     ]
    }
   ],
   "source": [
    "# EX 2-6\n",
    "\n",
    "famous_person=\"Muhammad Affan Ali\"\n",
    "print(f'{famous_personous_person} once said, \"A person who never made amistake never tried anything new.\"')"
   ]
  },
  {
   "cell_type": "code",
   "execution_count": 29,
   "metadata": {},
   "outputs": [
    {
     "name": "stdout",
     "output_type": "stream",
     "text": [
      "11\n",
      "7 10 8  a b c d   \n"
     ]
    }
   ],
   "source": [
    "# Ex 2-7\n",
    "string = \" a b c d   \"\n",
    "print(len(string))\n",
    "strip = string.strip()\n",
    "lstrip = string.lstrip()\n",
    "rStrip = string.rstrip()\n",
    "print(len(strip) , len(lstrip) , len(rStrip) , string)"
   ]
  },
  {
   "cell_type": "code",
   "execution_count": 31,
   "metadata": {},
   "outputs": [
    {
     "name": "stdout",
     "output_type": "stream",
     "text": [
      "6\n",
      "-2\n",
      "8\n",
      "0.5\n"
     ]
    }
   ],
   "source": [
    "#  Ex 2-8\n",
    "\n",
    "print(2+4)\n",
    "print(2-4)\n",
    "print(2*4)\n",
    "print(2/4)\n"
   ]
  },
  {
   "cell_type": "code",
   "execution_count": 33,
   "metadata": {},
   "outputs": [
    {
     "name": "stdout",
     "output_type": "stream",
     "text": [
      "you favourites number is 23\n"
     ]
    }
   ],
   "source": [
    "# Ex-2-9\n",
    "fav_num = 23\n",
    "print(f\"you favourites number is {str(fav_num)}\")"
   ]
  },
  {
   "cell_type": "code",
   "execution_count": 34,
   "metadata": {},
   "outputs": [
    {
     "name": "stdout",
     "output_type": "stream",
     "text": [
      "The Zen of Python, by Tim Peters\n",
      "\n",
      "Beautiful is better than ugly.\n",
      "Explicit is better than implicit.\n",
      "Simple is better than complex.\n",
      "Complex is better than complicated.\n",
      "Flat is better than nested.\n",
      "Sparse is better than dense.\n",
      "Readability counts.\n",
      "Special cases aren't special enough to break the rules.\n",
      "Although practicality beats purity.\n",
      "Errors should never pass silently.\n",
      "Unless explicitly silenced.\n",
      "In the face of ambiguity, refuse the temptation to guess.\n",
      "There should be one-- and preferably only one --obvious way to do it.\n",
      "Although that way may not be obvious at first unless you're Dutch.\n",
      "Now is better than never.\n",
      "Although never is often better than *right* now.\n",
      "If the implementation is hard to explain, it's a bad idea.\n",
      "If the implementation is easy to explain, it may be a good idea.\n",
      "Namespaces are one honking great idea -- let's do more of those!\n"
     ]
    }
   ],
   "source": [
    "import this"
   ]
  },
  {
   "cell_type": "code",
   "execution_count": null,
   "metadata": {},
   "outputs": [],
   "source": []
  }
 ],
 "metadata": {
  "kernelspec": {
   "display_name": "Python 3",
   "language": "python",
   "name": "python3"
  },
  "language_info": {
   "codemirror_mode": {
    "name": "ipython",
    "version": 3
   },
   "file_extension": ".py",
   "mimetype": "text/x-python",
   "name": "python",
   "nbconvert_exporter": "python",
   "pygments_lexer": "ipython3",
   "version": "3.8.5"
  }
 },
 "nbformat": 4,
 "nbformat_minor": 4
}
