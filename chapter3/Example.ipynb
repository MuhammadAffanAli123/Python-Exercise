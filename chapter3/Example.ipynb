{
 "cells": [
  {
   "cell_type": "markdown",
   "metadata": {},
   "source": [
    "# List Example"
   ]
  },
  {
   "cell_type": "code",
   "execution_count": 1,
   "metadata": {},
   "outputs": [
    {
     "name": "stdout",
     "output_type": "stream",
     "text": [
      "['trek', 'cannondale', 'redline', 'specialized']\n"
     ]
    }
   ],
   "source": [
    "lists = ['trek', 'cannondale', 'redline', 'specialized']\n",
    "print(lists)"
   ]
  },
  {
   "cell_type": "code",
   "execution_count": 4,
   "metadata": {},
   "outputs": [
    {
     "name": "stdout",
     "output_type": "stream",
     "text": [
      "specialized\n"
     ]
    }
   ],
   "source": [
    "print(lists[4-1]) # == list[3]"
   ]
  },
  {
   "cell_type": "code",
   "execution_count": 6,
   "metadata": {},
   "outputs": [
    {
     "name": "stdout",
     "output_type": "stream",
     "text": [
      "Redline\n"
     ]
    }
   ],
   "source": [
    "print(lists[2].title())"
   ]
  },
  {
   "cell_type": "code",
   "execution_count": 8,
   "metadata": {},
   "outputs": [
    {
     "name": "stdout",
     "output_type": "stream",
     "text": [
      "Redline\n"
     ]
    }
   ],
   "source": [
    "print(lists[-2].title())"
   ]
  },
  {
   "cell_type": "code",
   "execution_count": 9,
   "metadata": {},
   "outputs": [
    {
     "name": "stdout",
     "output_type": "stream",
     "text": [
      "My first bicycle was a Trek.\n"
     ]
    }
   ],
   "source": [
    " fCycle = \"My first bicycle was a \" + lists[0].title() + \".\"\n",
    "print(fCycle)"
   ]
  },
  {
   "cell_type": "code",
   "execution_count": 40,
   "metadata": {},
   "outputs": [
    {
     "name": "stdout",
     "output_type": "stream",
     "text": [
      "['Honda', 'Unique', 'Honda', 'Super Power', 'Lion Star']\n"
     ]
    }
   ],
   "source": [
    "bikes = [\"Honda\" , \"Unique\" ,\"Honda\" ,\"Super Power\" , \"Lion Star\"]\n",
    "print(bikes)"
   ]
  },
  {
   "cell_type": "code",
   "execution_count": 22,
   "metadata": {},
   "outputs": [
    {
     "name": "stdout",
     "output_type": "stream",
     "text": [
      "['Unique', 'Honda', 'Honda']\n"
     ]
    }
   ],
   "source": [
    "bikes[2]=\"Honda\"\n",
    "print(bikes)"
   ]
  },
  {
   "cell_type": "code",
   "execution_count": 23,
   "metadata": {},
   "outputs": [
    {
     "name": "stdout",
     "output_type": "stream",
     "text": [
      "['Unique', 'Honda', 'Honda']\n",
      "['Honda', 'Honda']\n"
     ]
    }
   ],
   "source": [
    "print(bikes)\n",
    "del bikes[0]\n",
    "print(bikes)"
   ]
  },
  {
   "cell_type": "code",
   "execution_count": 30,
   "metadata": {},
   "outputs": [
    {
     "name": "stdout",
     "output_type": "stream",
     "text": [
      "['Honda', 'Unique', 'Super Power', 'Lion Star']\n",
      "['Honda', 'Unique', 'Super Power']\n"
     ]
    },
    {
     "data": {
      "text/plain": [
       "'Unique'"
      ]
     },
     "execution_count": 30,
     "metadata": {},
     "output_type": "execute_result"
    }
   ],
   "source": [
    "print(bikes)\n",
    "bikes.pop() # pop from end\n",
    "print(bikes)\n",
    "bikes.pop(1) # pop from index"
   ]
  },
  {
   "cell_type": "code",
   "execution_count": 42,
   "metadata": {},
   "outputs": [
    {
     "name": "stdout",
     "output_type": "stream",
     "text": [
      "['Unique', 'Honda', 'Super Power', 'Lion Star']\n",
      "['Unique', 'Super Power', 'Lion Star']\n"
     ]
    }
   ],
   "source": [
    "print(bikes)\n",
    "bikes.remove(\"Honda\")\n",
    "print(bikes)"
   ]
  },
  {
   "cell_type": "code",
   "execution_count": null,
   "metadata": {},
   "outputs": [],
   "source": []
  }
 ],
 "metadata": {
  "kernelspec": {
   "display_name": "Python 3",
   "language": "python",
   "name": "python3"
  },
  "language_info": {
   "codemirror_mode": {
    "name": "ipython",
    "version": 3
   },
   "file_extension": ".py",
   "mimetype": "text/x-python",
   "name": "python",
   "nbconvert_exporter": "python",
   "pygments_lexer": "ipython3",
   "version": "3.8.5"
  }
 },
 "nbformat": 4,
 "nbformat_minor": 4
}
