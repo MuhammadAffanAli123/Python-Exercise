{
 "cells": [
  {
   "cell_type": "markdown",
   "metadata": {},
   "source": [
    "# List Exercise"
   ]
  },
  {
   "cell_type": "code",
   "execution_count": null,
   "metadata": {},
   "outputs": [],
   "source": [
    "# Ex 3-1\n",
    "name=[\"Ali\" , \"raza\" , \"affan\"]\n",
    "[print(name[i])  for i in range(0,len(name)) ]"
   ]
  },
  {
   "cell_type": "code",
   "execution_count": null,
   "metadata": {},
   "outputs": [],
   "source": [
    "# Ex  3-2\n",
    "name=[\"Ali\" , \"raza\" , \"affan\"]\n",
    "[print(f\" your person is {name[i]}\")  for i in range(0,len(name)) ]"
   ]
  },
  {
   "cell_type": "code",
   "execution_count": null,
   "metadata": {},
   "outputs": [],
   "source": [
    "# Ex 3-3\n",
    "bikes = [\"Honda\" , \"Unique\" , \"Super Power\" , \"Lion Star\"]\n",
    "[print(f\" your Own bike  is {bikes[i]}\")  for i in range(0,len(bikes)) ]"
   ]
  },
  {
   "cell_type": "code",
   "execution_count": null,
   "metadata": {},
   "outputs": [],
   "source": [
    "# Ex 3-4\n",
    "bikes=[]\n",
    "bikes.append(\"honda\")\n",
    "bikes.append(\"Unique\")\n",
    "bikes.append(\"Ravi\")\n",
    "print(bikes)"
   ]
  },
  {
   "cell_type": "code",
   "execution_count": null,
   "metadata": {},
   "outputs": [],
   "source": [
    "# Ex 3-5\n",
    "name=[\"Ali\" , \"raza\" , \"Affan\"]\n",
    "[print(f\" inviting {name[i]} to Dinner\")  for i in range(0,len(name)) ]"
   ]
  },
  {
   "cell_type": "code",
   "execution_count": null,
   "metadata": {},
   "outputs": [],
   "source": [
    "# Ex 3-6\n",
    "name=[\"Ali\" , \"raza\" , \"Affan\"]\n",
    "[print(f\" inviting {name[i]} to Dinner\")  for i in range(0,len(name)) ]\n",
    "\n",
    "print(f'{name[1]} can not make invit')\n",
    "name[1] = 'farhan'\n",
    "[print(f\" inviting {name[i]} to Dinner\")  for i in range(0,len(name)) ]\n"
   ]
  },
  {
   "cell_type": "code",
   "execution_count": null,
   "metadata": {},
   "outputs": [],
   "source": [
    "# Ex 3-7\n",
    "\n",
    "bikes=[]\n",
    "bikes.append(\"honda\")\n",
    "bikes.append(\"Unique\")\n",
    "bikes.append(\"Ravi\")\n",
    "bikes.insert(3 , \"honda\" )\n",
    "bikes.insert(4 , \"super power\" )\n",
    "print(bikes)"
   ]
  },
  {
   "cell_type": "code",
   "execution_count": null,
   "metadata": {},
   "outputs": [],
   "source": [
    "# Ex 3-8\n",
    "\n",
    "user= [1,2,3,4,5]\n",
    "for i in user:\n",
    "    if (len(user) >  2):\n",
    "        user.pop()\n",
    "print(user)\n",
    "\n",
    "users= [1,2,3,4,5]\n",
    "for i in user:\n",
    "    if (len(users) >  2):\n",
    "        del users[i]\n",
    "print(users)"
   ]
  },
  {
   "cell_type": "code",
   "execution_count": 3,
   "metadata": {},
   "outputs": [
    {
     "name": "stdout",
     "output_type": "stream",
     "text": [
      "[1, 2, 2, 3, 5, 5, 6, 10]\n",
      "[10, 6, 5, 5, 3, 2, 2, 1]\n"
     ]
    }
   ],
   "source": [
    "# EX 3-9\n",
    "lists = [2,3,1,5,2,6,5,10]\n",
    "lists.sort()\n",
    "print(lists)\n",
    "\n",
    "lists.reverse()\n",
    "print(lists)\n",
    "\n"
   ]
  },
  {
   "cell_type": "code",
   "execution_count": 4,
   "metadata": {},
   "outputs": [
    {
     "name": "stdout",
     "output_type": "stream",
     "text": [
      " inviting Ali to Dinner\n",
      " inviting raza to Dinner\n",
      " inviting Affan to Dinner\n",
      "raza can not make invit\n",
      "there are 3 person invite in Dinner\n"
     ]
    }
   ],
   "source": [
    "# Ex 3-10\n",
    "name=[\"Ali\" , \"raza\" , \"Affan\"]\n",
    "[print(f\" inviting {name[i]} to Dinner\")  for i in range(0,len(name)) ]\n",
    "\n",
    "print(f'{name[1]} can not make invit')\n",
    "name[1] = 'farhan'\n",
    "print(f'there are {len(name) } person invite in Dinner')"
   ]
  },
  {
   "cell_type": "code",
   "execution_count": null,
   "metadata": {},
   "outputs": [],
   "source": []
  },
  {
   "cell_type": "code",
   "execution_count": null,
   "metadata": {},
   "outputs": [],
   "source": []
  }
 ],
 "metadata": {
  "kernelspec": {
   "display_name": "Python 3",
   "language": "python",
   "name": "python3"
  },
  "language_info": {
   "codemirror_mode": {
    "name": "ipython",
    "version": 3
   },
   "file_extension": ".py",
   "mimetype": "text/x-python",
   "name": "python",
   "nbconvert_exporter": "python",
   "pygments_lexer": "ipython3",
   "version": "3.8.5"
  }
 },
 "nbformat": 4,
 "nbformat_minor": 4
}
