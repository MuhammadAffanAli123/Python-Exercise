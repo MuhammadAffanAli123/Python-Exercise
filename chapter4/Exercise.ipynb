{
 "cells": [
  {
   "cell_type": "code",
   "execution_count": null,
   "metadata": {},
   "outputs": [],
   "source": [
    "# Ex 4-1\n",
    "pizzas=[\"Tikkah\" , \"Afhghani\" , \"fajita\"]\n",
    "for i in pizzas:\n",
    "    print(f\"I like {i} pizza\")\n",
    "    print(f\"I like {i} Pizza and and I really love Pizza\")"
   ]
  },
  {
   "cell_type": "code",
   "execution_count": null,
   "metadata": {},
   "outputs": [],
   "source": [
    "# Ex 4-2\n",
    "animal=[\"cat\" , \"Dog\" , \"Parrot\"]\n",
    "for i in animal:\n",
    "    print(f\" A {i} would make a great pet.\")"
   ]
  },
  {
   "cell_type": "code",
   "execution_count": null,
   "metadata": {},
   "outputs": [],
   "source": [
    "# Ex 4-3\n",
    "for i in range(0 , 20):\n",
    "    \n",
    "    print(i)"
   ]
  },
  {
   "cell_type": "code",
   "execution_count": null,
   "metadata": {},
   "outputs": [],
   "source": [
    "# Ex 4-4\n",
    "millions= range(1,1000001)\n",
    "for million in millions:\n",
    "    print(million)\n",
    "    "
   ]
  },
  {
   "cell_type": "code",
   "execution_count": 8,
   "metadata": {},
   "outputs": [
    {
     "name": "stdout",
     "output_type": "stream",
     "text": [
      "9999\n",
      "1\n"
     ]
    },
    {
     "data": {
      "text/plain": [
       "49995000"
      ]
     },
     "execution_count": 8,
     "metadata": {},
     "output_type": "execute_result"
    }
   ],
   "source": [
    "# Ex 4-5\n",
    "million = range(1,10000)\n",
    "print(max(million))\n",
    "print(min(million))\n",
    "sum(million)"
   ]
  },
  {
   "cell_type": "code",
   "execution_count": 10,
   "metadata": {},
   "outputs": [
    {
     "name": "stdout",
     "output_type": "stream",
     "text": [
      "1 is a ODD\n",
      "3 is a ODD\n",
      "5 is a ODD\n",
      "7 is a ODD\n",
      "9 is a ODD\n"
     ]
    }
   ],
   "source": [
    "# Ex 4-6\n",
    "li = range(0,10)\n",
    "for i in li:\n",
    "    if (i%2 != 0):\n",
    "        print(f\"{i} is a ODD\")"
   ]
  },
  {
   "cell_type": "code",
   "execution_count": 20,
   "metadata": {},
   "outputs": [
    {
     "name": "stdout",
     "output_type": "stream",
     "text": [
      "3 is a Multiply  by 1 = 3\n",
      "3 is a Multiply  by 2 = 6\n",
      "3 is a Multiply  by 3 = 9\n",
      "3 is a Multiply  by 4 = 12\n",
      "3 is a Multiply  by 5 = 15\n",
      "3 is a Multiply  by 6 = 18\n",
      "3 is a Multiply  by 7 = 21\n",
      "3 is a Multiply  by 8 = 24\n",
      "3 is a Multiply  by 9 = 27\n",
      "3 is a Multiply  by 10 = 30\n"
     ]
    }
   ],
   "source": [
    "# Ex 4-7\n",
    "li = range(1,33)\n",
    "count = 1\n",
    "for i in li:\n",
    "    if (i%3 == 0):\n",
    "        \n",
    "        print(f\"3 is a Multiply  by {count} = {i}\")\n",
    "        count += 1"
   ]
  },
  {
   "cell_type": "code",
   "execution_count": 29,
   "metadata": {},
   "outputs": [
    {
     "name": "stdout",
     "output_type": "stream",
     "text": [
      "0\n",
      "1\n",
      "2\n",
      "3\n",
      "4\n",
      "5\n",
      "6\n",
      "7\n",
      "8\n",
      "9\n"
     ]
    }
   ],
   "source": [
    "# Ex 4-8\n",
    "li = range(0,1000)\n",
    "for i in li:\n",
    "    if i**3 in li:\n",
    "        print(i)"
   ]
  },
  {
   "cell_type": "code",
   "execution_count": 35,
   "metadata": {},
   "outputs": [
    {
     "name": "stdout",
     "output_type": "stream",
     "text": [
      "0\n",
      "1\n",
      "2\n",
      "3\n",
      "4\n",
      "5\n",
      "6\n",
      "7\n",
      "8\n",
      "9\n"
     ]
    },
    {
     "data": {
      "text/plain": [
       "[None, None, None, None, None, None, None, None, None, None]"
      ]
     },
     "execution_count": 35,
     "metadata": {},
     "output_type": "execute_result"
    }
   ],
   "source": [
    "# Ex 4-9\n",
    "li = range(0,1000)\n",
    "[print(i) for i in li if i**3 in li]"
   ]
  },
  {
   "cell_type": "code",
   "execution_count": 49,
   "metadata": {},
   "outputs": [
    {
     "name": "stdout",
     "output_type": "stream",
     "text": [
      "[1, 2, 3]\n",
      "[4, 5, 6]\n",
      "[6, 8, 9]\n"
     ]
    }
   ],
   "source": [
    "# Ex 4-10\n",
    "sli = [1,2,3,4,5,6,8,9,10]\n",
    "first3 = sli[0:3]\n",
    "print(first3)\n",
    "middle3 = sli[3:-3]\n",
    "print(middle3)\n",
    "end3 = sli[-4:-1]\n",
    "print(end3)"
   ]
  },
  {
   "cell_type": "code",
   "execution_count": 5,
   "metadata": {},
   "outputs": [
    {
     "name": "stdout",
     "output_type": "stream",
     "text": [
      "Tikkha pizza is my Favorite\n",
      "fajita pizza is my Favorite\n",
      "['Afghani_Tikkah', 'Tikkha', 'vegetable', 'afghani', 'fajita']\n"
     ]
    }
   ],
   "source": [
    "# Ex 4-11\n",
    "my_favorites=[\"Tikkha\" , \"fajita\"]\n",
    "pizzas=[\"Tikkha\" , \"vegetable\" ,\"afghani\" ,\"fajita\"] \n",
    "for i in pizzas:        \n",
    "    if i in my_favorites:\n",
    "        print(f\"{i} pizza is my Favorite\")\n",
    "\n",
    "pizzas.insert(0,\"Afghani_Tikkah\" )\n",
    "print(pizzas)"
   ]
  },
  {
   "cell_type": "code",
   "execution_count": 18,
   "metadata": {},
   "outputs": [
    {
     "name": "stdout",
     "output_type": "stream",
     "text": [
      "water\n",
      "Burger\n",
      "Broast\n",
      "sandwich\n",
      "behari Boti\n"
     ]
    }
   ],
   "source": [
    "# Ex 4-13\n",
    "resturent = [\"water\" , \"Burger\" , \"Broast\" , \"sandwich\"]\n",
    "resturent.append(\"behari Boti\")\n",
    "rt = tuple(resturent)\n",
    "for i in rt:\n",
    "    print(f\"{i}\")"
   ]
  },
  {
   "cell_type": "code",
   "execution_count": null,
   "metadata": {},
   "outputs": [],
   "source": []
  },
  {
   "cell_type": "code",
   "execution_count": null,
   "metadata": {},
   "outputs": [],
   "source": []
  }
 ],
 "metadata": {
  "kernelspec": {
   "display_name": "Python 3",
   "language": "python",
   "name": "python3"
  },
  "language_info": {
   "codemirror_mode": {
    "name": "ipython",
    "version": 3
   },
   "file_extension": ".py",
   "mimetype": "text/x-python",
   "name": "python",
   "nbconvert_exporter": "python",
   "pygments_lexer": "ipython3",
   "version": "3.8.5"
  }
 },
 "nbformat": 4,
 "nbformat_minor": 4
}
