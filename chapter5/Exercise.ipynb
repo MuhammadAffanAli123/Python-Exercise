{
 "cells": [
  {
   "cell_type": "code",
   "execution_count": 1,
   "metadata": {},
   "outputs": [
    {
     "name": "stdout",
     "output_type": "stream",
     "text": [
      "pridict true\n"
     ]
    }
   ],
   "source": [
    "# Ex 5-1\n",
    "car ='subur'\n",
    "if (car == 'subur'):\n",
    "    print('pridict true')\n",
    "else:\n",
    "    print('pridict false')"
   ]
  },
  {
   "cell_type": "code",
   "execution_count": 5,
   "metadata": {},
   "outputs": [
    {
     "name": "stdout",
     "output_type": "stream",
     "text": [
      "okay\n"
     ]
    }
   ],
   "source": [
    "# Ex 5-2\n",
    "String = \"affan\"\n",
    "lower= String.lower()\n",
    "if String==lower:\n",
    "    print(\"okay\")"
   ]
  },
  {
   "cell_type": "code",
   "execution_count": 9,
   "metadata": {},
   "outputs": [
    {
     "name": "stdout",
     "output_type": "stream",
     "text": [
      "player earned 5 points\n"
     ]
    }
   ],
   "source": [
    "# Ex 5-3\n",
    "colors = ['red', 'yelow' , 'blue']\n",
    "for i in colors:\n",
    "    if i=='yelow':\n",
    "        print(\"player earned 5 points\")\n",
    "    "
   ]
  },
  {
   "cell_type": "code",
   "execution_count": 11,
   "metadata": {},
   "outputs": [
    {
     "name": "stdout",
     "output_type": "stream",
     "text": [
      "Players Earned 10 Points\n",
      "player earned 5 points\n",
      "Players Earned 10 Points\n"
     ]
    }
   ],
   "source": [
    "# Ex 5-4\n",
    "colors = ['red', 'yelow' , 'blue']\n",
    "for i in colors:\n",
    "    if i=='yelow':\n",
    "        print(\"player earned 5 points\")\n",
    "    else:\n",
    "        print(\"Players Earned 10 Points\")\n"
   ]
  },
  {
   "cell_type": "code",
   "execution_count": 20,
   "metadata": {},
   "outputs": [
    {
     "name": "stdout",
     "output_type": "stream",
     "text": [
      "Enter Person 29\n",
      "The person is Younger \n"
     ]
    }
   ],
   "source": [
    "#Ex 5-6\n",
    "person = int(input(\"Enter Person \"))\n",
    "if (person < 2 ):\n",
    "    print(\"the person is a baby\")\n",
    "elif(person >= 2 and person < 4):\n",
    "    print(\"The person is toddler \")\n",
    "elif(person >= 4 and person < 13):\n",
    "    print(\"The person is Kids \")\n",
    "elif(person >= 13 and person < 20):\n",
    "    print(\"The person is teengeers \")\n",
    "elif(person >= 20 and person < 30):\n",
    "    print(\"The person is Younger \")\n",
    "else:\n",
    "    print(\"The person is older\")\n",
    " \n",
    "    "
   ]
  },
  {
   "cell_type": "code",
   "execution_count": 21,
   "metadata": {},
   "outputs": [
    {
     "name": "stdout",
     "output_type": "stream",
     "text": [
      "you rally like apple\n",
      "you rally like Graps\n"
     ]
    }
   ],
   "source": [
    "# Ex 5-7\n",
    "furites =[\"apple\" , \"banana\", \"Graps\",\"orange\"]\n",
    "fav_furites = [\"apple\" , \"Graps\"]\n",
    "for i in furites:\n",
    "    if i in fav_furites:\n",
    "        print(f\"you rally like {i}\")"
   ]
  },
  {
   "cell_type": "code",
   "execution_count": 22,
   "metadata": {},
   "outputs": [
    {
     "name": "stdout",
     "output_type": "stream",
     "text": [
      "Hello farhan , thank you for logging in again.\n",
      "Hello raza , thank you for logging in again.\n",
      "Hello Ali , thank you for logging in again.\n",
      "Hello admin , would you like to see a status report?\n"
     ]
    }
   ],
   "source": [
    "# EX 5-8\n",
    "username=[\"farhan\", \"raza\",\"Ali\",\"admin\"]\n",
    "for i in username:\n",
    "    if (i == \"admin\"):\n",
    "        print(f\"Hello {i} , would you like to see a status report?\")\n",
    "    else:\n",
    "        print(f\"Hello {i} , thank you for logging in again.\")"
   ]
  },
  {
   "cell_type": "code",
   "execution_count": 32,
   "metadata": {},
   "outputs": [
    {
     "name": "stdout",
     "output_type": "stream",
     "text": [
      "[1, 2, 3, 4, 5]\n",
      "[1, 2, 3, 4]\n",
      "[1, 2, 3]\n"
     ]
    }
   ],
   "source": [
    "# Ex 5-9\n",
    "li = [1,2,3,4,5,6]\n",
    "for i in li:\n",
    "    if (len(li) == 0):\n",
    "        print(\"the message We need to find some users!\")\n",
    "    else:\n",
    "        li.pop()\n",
    "        print(li)"
   ]
  },
  {
   "cell_type": "code",
   "execution_count": 36,
   "metadata": {},
   "outputs": [
    {
     "name": "stdout",
     "output_type": "stream",
     "text": [
      "['farhan', 'raza', 'Ali', 'admin']\n",
      "Enter Useraffan\n",
      "['farhan', 'raza', 'Ali', 'admin', 'affan']\n"
     ]
    }
   ],
   "source": [
    "# Ex 5-10\n",
    "username=[\"farhan\", \"raza\",\"Ali\",\"admin\"]\n",
    "print(username)\n",
    "newUser = input(\"Enter User\")\n",
    "if newUser in username:\n",
    "    print(\"User is availabe\")\n",
    "else:\n",
    "    username.append(newUser)\n",
    "    print(username)"
   ]
  },
  {
   "cell_type": "code",
   "execution_count": 37,
   "metadata": {},
   "outputs": [
    {
     "name": "stdout",
     "output_type": "stream",
     "text": [
      "ist\n",
      "2nd\n",
      "3rd\n",
      "4th\n",
      "5th\n"
     ]
    }
   ],
   "source": [
    "# Ex 5-11\n",
    "lis = [1,2,3,4,5]\n",
    "for i in lis:\n",
    "    if(i == 1):\n",
    "        print(\"ist\")\n",
    "    elif(i == 2):\n",
    "        print(\"2nd\")\n",
    "    elif(i == 3):\n",
    "        print(\"3rd\")\n",
    "    elif (i == 4):\n",
    "        print(\"4th\")\n",
    "    elif (i == 5):\n",
    "        print(\"5th\")"
   ]
  },
  {
   "cell_type": "code",
   "execution_count": null,
   "metadata": {},
   "outputs": [],
   "source": []
  }
 ],
 "metadata": {
  "kernelspec": {
   "display_name": "Python 3",
   "language": "python",
   "name": "python3"
  },
  "language_info": {
   "codemirror_mode": {
    "name": "ipython",
    "version": 3
   },
   "file_extension": ".py",
   "mimetype": "text/x-python",
   "name": "python",
   "nbconvert_exporter": "python",
   "pygments_lexer": "ipython3",
   "version": "3.8.5"
  }
 },
 "nbformat": 4,
 "nbformat_minor": 4
}
