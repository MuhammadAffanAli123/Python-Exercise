{
 "cells": [
  {
   "cell_type": "code",
   "execution_count": 1,
   "metadata": {},
   "outputs": [
    {
     "name": "stdout",
     "output_type": "stream",
     "text": [
      "{'name': 'affan', 'lname': 'ALi', 'age': '23'}\n"
     ]
    }
   ],
   "source": [
    "\n",
    "dic1 = {\"name\":\"affan\" , \"lname\":\"ALi\",\"age\":\"23\"}\n",
    "print(dic1)"
   ]
  },
  {
   "cell_type": "code",
   "execution_count": 2,
   "metadata": {},
   "outputs": [
    {
     "name": "stdout",
     "output_type": "stream",
     "text": [
      "[{'name': 'affan', 'lname': 'ALi', 'age': '23', 'Fav_Num': 23}, {'name': 'raza', 'lname': 'ALi', 'age': '23', 'Fav_Num': 3}]\n",
      "affan 23\n",
      "raza 3\n"
     ]
    }
   ],
   "source": [
    "\n",
    "dic1 = [{\"name\":\"affan\" , \"lname\":\"ALi\",\"age\":\"23\" , \"Fav_Num\":23} ,\n",
    "        {\"name\":\"raza\" , \"lname\":\"ALi\",\"age\":\"23\" , \"Fav_Num\":3}]\n",
    "print(dic1)\n",
    "for i in dic1:\n",
    "    print(i['name'] , i['Fav_Num'])\n"
   ]
  },
  {
   "cell_type": "code",
   "execution_count": 18,
   "metadata": {},
   "outputs": [
    {
     "name": "stdout",
     "output_type": "stream",
     "text": [
      "\n",
      "Key: if\n",
      "Value: conditio1\n",
      "\n",
      "Key: elif\n",
      "Value: 2nd condition\n",
      "\n",
      "Key: else\n",
      "Value: all condition wrong\n"
     ]
    }
   ],
   "source": [
    "\n",
    "user_0 = {\n",
    " \"if\":\"conditio1\" , \"elif\":\"2nd condition\" , \"else\":\"all condition wrong\"\n",
    " }\n",
    "for key, value in user_0.items():\n",
    "    print(\"\\nKey: \" + key)\n",
    "    print(\"Value: \" + value)\n",
    "\n",
    "\n"
   ]
  },
  {
   "cell_type": "code",
   "execution_count": 23,
   "metadata": {},
   "outputs": [
    {
     "name": "stdout",
     "output_type": "stream",
     "text": [
      "indus\n",
      "pakistan\n",
      "Jelum\n",
      "pakistan\n"
     ]
    }
   ],
   "source": [
    "river=[{\"name\":\"indus\" , \"country\":\"pakistan\" } , {\"name\":\"Jelum\" , \"country\" :\"pakistan\"}]\n",
    "for i in river:\n",
    "    print(i[\"name\"])\n",
    "    print(i[\"country\"])"
   ]
  },
  {
   "cell_type": "code",
   "execution_count": 26,
   "metadata": {},
   "outputs": [
    {
     "name": "stdout",
     "output_type": "stream",
     "text": [
      "Affan\n",
      "ALi\n"
     ]
    }
   ],
   "source": [
    "person = [{\"userName\":\"Affan\"} , {\"userName\":\"ALi\"}]\n",
    "for i in person:\n",
    "    print(i['userName'])\n"
   ]
  },
  {
   "cell_type": "code",
   "execution_count": 28,
   "metadata": {},
   "outputs": [
    {
     "name": "stdout",
     "output_type": "stream",
     "text": [
      "animal   cat\n",
      "animal   dog\n"
     ]
    }
   ],
   "source": [
    "pets=[{\"animal\":\"cat\"} ,{\"animal\":\"dog\"}]\n",
    "for i in pets:\n",
    "    for Key , values in i.items():\n",
    "        print(Key , \" : \" , values)"
   ]
  },
  {
   "cell_type": "code",
   "execution_count": 34,
   "metadata": {},
   "outputs": [
    {
     "name": "stdout",
     "output_type": "stream",
     "text": [
      "affan\n",
      "{'place1': 'karachi', 'place2': 'lahore'}\n",
      "Raza\n",
      "{'place1': 'Hyderabad', 'place2': 'Islamabad'}\n"
     ]
    }
   ],
   "source": [
    "fav = [{\"name\":\"affan\" , \"fav_place\" : {\"place1\":\"karachi\" , \"place2\":\"lahore\"}} ,\n",
    "       {\"name\":\"Raza\" , \"fav_place\" : {\"place1\":\"Hyderabad\" , \"place2\":\"Islamabad\"}}]\n",
    "for i in fav:\n",
    "    for Key , val in i.items():\n",
    "        print(val)"
   ]
  },
  {
   "cell_type": "code",
   "execution_count": 35,
   "metadata": {},
   "outputs": [
    {
     "name": "stdout",
     "output_type": "stream",
     "text": [
      "affan\n",
      "{'fav_num1': 3, 'fav_num2': 9}\n",
      "Raza\n",
      "{'fav_num1': 5, 'fav_num2': 6}\n"
     ]
    }
   ],
   "source": [
    "fav = [{\"name\":\"affan\" , \"fav_place\" : {\"fav_num1\":3 , \"fav_num2\":9}} ,\n",
    "       {\"name\":\"Raza\" , \"fav_place\" : {\"fav_num1\":5 , \"fav_num2\":6}}]\n",
    "for i in fav:\n",
    "    for Key , val in i.items():\n",
    "        print(val)"
   ]
  },
  {
   "cell_type": "code",
   "execution_count": 39,
   "metadata": {},
   "outputs": [
    {
     "name": "stdout",
     "output_type": "stream",
     "text": [
      "karachi {'country': 'pakistan'}\n",
      "lahore {'country': 'pakistan'}\n"
     ]
    }
   ],
   "source": [
    "city={\"karachi\":{\"country\":\"pakistan\"} ,\"lahore\":{\"country\":\"pakistan\"}}\n",
    "for k , v in city.items():\n",
    "    print(k , v)"
   ]
  },
  {
   "cell_type": "code",
   "execution_count": null,
   "metadata": {},
   "outputs": [],
   "source": []
  }
 ],
 "metadata": {
  "kernelspec": {
   "display_name": "Python 3",
   "language": "python",
   "name": "python3"
  },
  "language_info": {
   "codemirror_mode": {
    "name": "ipython",
    "version": 3
   },
   "file_extension": ".py",
   "mimetype": "text/x-python",
   "name": "python",
   "nbconvert_exporter": "python",
   "pygments_lexer": "ipython3",
   "version": "3.8.5"
  }
 },
 "nbformat": 4,
 "nbformat_minor": 4
}
