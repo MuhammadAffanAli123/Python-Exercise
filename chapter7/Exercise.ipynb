{
 "cells": [
  {
   "cell_type": "code",
   "execution_count": 9,
   "metadata": {},
   "outputs": [
    {
     "name": "stdout",
     "output_type": "stream",
     "text": [
      "Plz tell me car namecorolla\n",
      "I am giving you this car corolla\n"
     ]
    }
   ],
   "source": [
    "car=input(\"Plz tell me car name\")\n",
    "print(f\"I am giving you this car {car}\")"
   ]
  },
  {
   "cell_type": "code",
   "execution_count": 8,
   "metadata": {},
   "outputs": [
    {
     "name": "stdout",
     "output_type": "stream",
     "text": [
      "how many peopleare in their dinner group3\n",
      " their table is ready\n"
     ]
    }
   ],
   "source": [
    "resturent = int(input(\"how many peopleare in their dinner group\"))\n",
    "if (resturent<8):\n",
    "    print(\" their table is ready\")\n",
    "else:\n",
    "    print(\"plz wait some minutes\")"
   ]
  },
  {
   "cell_type": "code",
   "execution_count": 7,
   "metadata": {},
   "outputs": [
    {
     "name": "stdout",
     "output_type": "stream",
     "text": [
      "plz tell me input40\n",
      "Number is Divisbale By 10\n"
     ]
    }
   ],
   "source": [
    "user = int(input(\"plz tell me input\"))\n",
    "if (user % 10 == 0):\n",
    "    print(\"Number is Divisbale By 10\")\n",
    "else:\n",
    "    print(\"Number is not Divisble by 10\")"
   ]
  },
  {
   "cell_type": "code",
   "execution_count": 6,
   "metadata": {},
   "outputs": [
    {
     "name": "stdout",
     "output_type": "stream",
     "text": [
      "Plz enter Toppingtikkah\n",
      "Plz enter Toppingmashroom\n",
      "Plz enter Toppingquit\n",
      "['tikkah', 'mashroom']\n"
     ]
    }
   ],
   "source": [
    "toppings=[]\n",
    "while(True):\n",
    "    topping = input(\"Plz enter Topping\")\n",
    "    if (topping == \"quit\"):\n",
    "        break\n",
    "    else:\n",
    "        toppings.append(topping)\n",
    "print(toppings)"
   ]
  },
  {
   "cell_type": "code",
   "execution_count": 4,
   "metadata": {},
   "outputs": [
    {
     "name": "stdout",
     "output_type": "stream",
     "text": [
      "Pla enter Age2\n",
      "ticket is free avail\n",
      "Pla enter Age4\n",
      "ticket is 500\n",
      "Pla enter Age5\n",
      "ticket is 500\n",
      "Pla enter Age10\n",
      "ticket is 1000\n",
      "Pla enter Age70\n"
     ]
    }
   ],
   "source": [
    "count=0 ;\n",
    "while(count<5):\n",
    "    age =int(input(\"Pla enter Age\"))\n",
    "    if age<3:\n",
    "        print(\"ticket is free avail\")\n",
    "    elif age >= 3 and age < 6:\n",
    "        print(\"ticket is 500\")\n",
    "    elif age>6 and age<50:\n",
    "        print(\"ticket is 1000\")\n",
    "    count += 1"
   ]
  },
  {
   "cell_type": "code",
   "execution_count": 5,
   "metadata": {},
   "outputs": [
    {
     "name": "stdout",
     "output_type": "stream",
     "text": [
      "Plz enter Inputmashrom\n",
      "Plz enter Inputtikkah\n",
      "Plz enter Inputquit\n"
     ]
    }
   ],
   "source": [
    "toppings=[]\n",
    "while(True):\n",
    "    topping = input(\"Plz enter Input\")\n",
    "    if (topping == \"quit\"):\n",
    "        break\n",
    "    else:\n",
    "        toppings.append(topping)"
   ]
  },
  {
   "cell_type": "code",
   "execution_count": null,
   "metadata": {},
   "outputs": [],
   "source": [
    "while(True):\n",
    "        print(\"a\")"
   ]
  },
  {
   "cell_type": "code",
   "execution_count": 2,
   "metadata": {},
   "outputs": [
    {
     "name": "stdout",
     "output_type": "stream",
     "text": [
      "Sandwich is empty\n"
     ]
    }
   ],
   "source": [
    "sandwich = [\"chicken\" , \"beef\", \"vegetable\"]\n",
    "i = 0\n",
    "while(i < len(sandwich)):\n",
    "    sandwich.pop()\n",
    "if sandwich==[]:\n",
    "    print(\"Sandwich is empty\")\n",
    "    \n"
   ]
  },
  {
   "cell_type": "code",
   "execution_count": 1,
   "metadata": {},
   "outputs": [
    {
     "name": "stdout",
     "output_type": "stream",
     "text": [
      "['beef', 'vegetable', 'chicken', 'chicken']\n",
      "['beef', 'vegetable', 'chicken']\n",
      "['beef', 'vegetable']\n"
     ]
    }
   ],
   "source": [
    "sandwich = [\"chicken\" , \"beef\", \"vegetable\" ,\"chicken\" , \"chicken\"]\n",
    "while(\"chicken\" in sandwich):\n",
    "    sandwich.remove('chicken')\n",
    "    print(sandwich)"
   ]
  },
  {
   "cell_type": "code",
   "execution_count": null,
   "metadata": {},
   "outputs": [],
   "source": [
    "while(True):\n",
    "    dream = input(\"plz tell me your Dream\")\n",
    "    if dream== \"quit\":\n",
    "        break"
   ]
  }
 ],
 "metadata": {
  "kernelspec": {
   "display_name": "Python 3",
   "language": "python",
   "name": "python3"
  },
  "language_info": {
   "codemirror_mode": {
    "name": "ipython",
    "version": 3
   },
   "file_extension": ".py",
   "mimetype": "text/x-python",
   "name": "python",
   "nbconvert_exporter": "python",
   "pygments_lexer": "ipython3",
   "version": "3.8.5"
  }
 },
 "nbformat": 4,
 "nbformat_minor": 4
}
