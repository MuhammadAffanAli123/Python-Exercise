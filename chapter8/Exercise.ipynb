{
 "cells": [
  {
   "cell_type": "code",
   "execution_count": null,
   "metadata": {},
   "outputs": [],
   "source": [
    " def display_message():\n",
    "        print(\"IN this chapter I will learn Python\")\n",
    "display_message()"
   ]
  },
  {
   "cell_type": "code",
   "execution_count": null,
   "metadata": {},
   "outputs": [],
   "source": [
    "def  display_favBook(book):\n",
    "    print(f\"my fav book is {book}\")\n",
    "display_favBook(\"math\")"
   ]
  },
  {
   "cell_type": "code",
   "execution_count": null,
   "metadata": {},
   "outputs": [],
   "source": [
    "def T_shirt(size , message):\n",
    "    print(f\"your T-shirt size is {size} , \\n print Text is {message}\")\n",
    "T_shirt(12 , \"Affan Ali\")"
   ]
  },
  {
   "cell_type": "code",
   "execution_count": null,
   "metadata": {},
   "outputs": [],
   "source": [
    "def make_shirt(value):\n",
    "    if value == \"medium\":\n",
    "        print(\"your shirt is medium\")\n",
    "    elif value == \"large\":\n",
    "         print(\"your shirt is large\")\n",
    "    else:\n",
    "        print(\"your shirt is small \" )\n",
    "\n",
    "make_shirt(\"large\")"
   ]
  },
  {
   "cell_type": "code",
   "execution_count": null,
   "metadata": {},
   "outputs": [],
   "source": [
    "def desribe_city(city , country):\n",
    "    print(f\"{city} is in {country}\")\n",
    "desribe_city(\"karachi\", \"pakistan\")"
   ]
  },
  {
   "cell_type": "code",
   "execution_count": null,
   "metadata": {},
   "outputs": [],
   "source": [
    "def desribe_cityString (city , country):\n",
    "    print(f\"'{city}, {country}''\")\n",
    "desribe_cityString (\"karachi\", \"pakistan\")"
   ]
  },
  {
   "cell_type": "code",
   "execution_count": null,
   "metadata": {},
   "outputs": [],
   "source": [
    "def make_album(artist , name):\n",
    "    dic={\"artist\":artist , \"name\":name}\n",
    "    print(dic)\n",
    "make_album(\"abc\" , \"affan\")"
   ]
  },
  {
   "cell_type": "code",
   "execution_count": null,
   "metadata": {},
   "outputs": [],
   "source": [
    "def make_album(artist , name):\n",
    "    dic={\"artist\":artist , \"name\":name}\n",
    "    print(dic)\n",
    "\n",
    "while(True):\n",
    "    artist=input(\"plz enter artist\")\n",
    "    name=input(\"plz enter name\")\n",
    "    if(artist == \"quit\" or name == \"quit\"):\n",
    "        break\n",
    "    else:\n",
    "        make_album(artist , name)"
   ]
  },
  {
   "cell_type": "code",
   "execution_count": null,
   "metadata": {},
   "outputs": [],
   "source": [
    "def name_list(name):\n",
    "    for i in name:\n",
    "        print(i)\n",
    "name=[\"affan\" , \"ali\",\"raza\"]\n",
    "name_list(name)"
   ]
  },
  {
   "cell_type": "code",
   "execution_count": null,
   "metadata": {},
   "outputs": [],
   "source": [
    "def name_listmodify(name , modify):\n",
    "    name.append(modify)\n",
    "    for i in name:\n",
    "        print(i)\n",
    "name=[\"affan\" , \"ali\",\"raza\"]\n",
    "name_listmodify(name , \"asad\")"
   ]
  },
  {
   "cell_type": "code",
   "execution_count": null,
   "metadata": {},
   "outputs": [],
   "source": [
    "def name_listmodifyUnchange(name , modify):\n",
    "    name1=name\n",
    "    print(name1)\n",
    "    name.append(modify)\n",
    "    print(name1)\n",
    "name=[\"affan\" , \"ali\",\"raza\"]\n",
    "name_listmodifyUnchange(name , \"asad\")"
   ]
  },
  {
   "cell_type": "code",
   "execution_count": null,
   "metadata": {},
   "outputs": [],
   "source": [
    "def orderedSandwich(order):\n",
    "    print(f\"your Order is {order}\")\n",
    "orderSandwich=[\"chickenSandwich\" , \"GarlicSandWich\",\"beefSandwich\" , \"zingerSandwich\"]\n",
    "orderedSandwich(orderSandwich)"
   ]
  },
  {
   "cell_type": "code",
   "execution_count": null,
   "metadata": {},
   "outputs": [],
   "source": [
    "def user(user):\n",
    "    print(user['name'])\n",
    "users={\"name\":\"affan\"}\n",
    "user(users)"
   ]
  },
  {
   "cell_type": "code",
   "execution_count": 1,
   "metadata": {},
   "outputs": [
    {
     "name": "stdout",
     "output_type": "stream",
     "text": [
      "{'name': 'affan'}\n"
     ]
    }
   ],
   "source": [
    "%run userInfo.py\n",
    "import userInfo\n",
    "userInfo.userInfo({\"name\":\"affan\"})"
   ]
  },
  {
   "cell_type": "code",
   "execution_count": null,
   "metadata": {},
   "outputs": [],
   "source": [
    "userInfo.make_car(\"city\" , )"
   ]
  }
 ],
 "metadata": {
  "kernelspec": {
   "display_name": "Python 3",
   "language": "python",
   "name": "python3"
  },
  "language_info": {
   "codemirror_mode": {
    "name": "ipython",
    "version": 3
   },
   "file_extension": ".py",
   "mimetype": "text/x-python",
   "name": "python",
   "nbconvert_exporter": "python",
   "pygments_lexer": "ipython3",
   "version": "3.8.5"
  }
 },
 "nbformat": 4,
 "nbformat_minor": 4
}
