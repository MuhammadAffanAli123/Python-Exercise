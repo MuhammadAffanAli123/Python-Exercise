{
 "cells": [
  {
   "cell_type": "code",
   "execution_count": 2,
   "metadata": {},
   "outputs": [
    {
     "name": "stdout",
     "output_type": "stream",
     "text": [
      "IN this chapter I will learn Python\n"
     ]
    }
   ],
   "source": [
    " def display_message():\n",
    "        print(\"IN this chapter I will learn Python\")\n",
    "display_message()"
   ]
  },
  {
   "cell_type": "code",
   "execution_count": 3,
   "metadata": {},
   "outputs": [
    {
     "name": "stdout",
     "output_type": "stream",
     "text": [
      "my fav book is math\n"
     ]
    }
   ],
   "source": [
    "def  display_favBook(book):\n",
    "    print(f\"my fav book is {book}\")\n",
    "display_favBook(\"math\")"
   ]
  },
  {
   "cell_type": "code",
   "execution_count": 5,
   "metadata": {},
   "outputs": [
    {
     "name": "stdout",
     "output_type": "stream",
     "text": [
      "your T-shirt size is 12 , \n",
      " print Text is Affan Ali\n"
     ]
    }
   ],
   "source": [
    "def T_shirt(size , message):\n",
    "    print(f\"your T-shirt size is {size} , \\n print Text is {message}\")\n",
    "T_shirt(12 , \"Affan Ali\")"
   ]
  },
  {
   "cell_type": "code",
   "execution_count": 8,
   "metadata": {},
   "outputs": [
    {
     "name": "stdout",
     "output_type": "stream",
     "text": [
      "your shirt is large\n"
     ]
    }
   ],
   "source": [
    "def make_shirt(value):\n",
    "    if value == \"medium\":\n",
    "        print(\"your shirt is medium\")\n",
    "    elif value == \"large\":\n",
    "         print(\"your shirt is large\")\n",
    "    else:\n",
    "        print(\"your shirt is small \" )\n",
    "\n",
    "make_shirt(\"large\")"
   ]
  },
  {
   "cell_type": "code",
   "execution_count": 10,
   "metadata": {},
   "outputs": [
    {
     "name": "stdout",
     "output_type": "stream",
     "text": [
      "karachi is in pakistan\n"
     ]
    }
   ],
   "source": [
    "def desribe_city(city , country):\n",
    "    print(f\"{city} is in {country}\")\n",
    "desribe_city(\"karachi\", \"pakistan\")"
   ]
  },
  {
   "cell_type": "code",
   "execution_count": 12,
   "metadata": {},
   "outputs": [
    {
     "name": "stdout",
     "output_type": "stream",
     "text": [
      "'karachi, pakistan''\n"
     ]
    }
   ],
   "source": [
    "def desribe_cityString (city , country):\n",
    "    print(f\"'{city}, {country}''\")\n",
    "desribe_cityString (\"karachi\", \"pakistan\")"
   ]
  },
  {
   "cell_type": "code",
   "execution_count": 13,
   "metadata": {},
   "outputs": [
    {
     "name": "stdout",
     "output_type": "stream",
     "text": [
      "{'artist': 'abc', 'name': 'affan'}\n"
     ]
    }
   ],
   "source": [
    "def make_album(artist , name):\n",
    "    dic={\"artist\":artist , \"name\":name}\n",
    "    print(dic)\n",
    "make_album(\"abc\" , \"affan\")"
   ]
  },
  {
   "cell_type": "code",
   "execution_count": 14,
   "metadata": {},
   "outputs": [
    {
     "name": "stdout",
     "output_type": "stream",
     "text": [
      "plz enter artistabc\n",
      "plz enter nameali\n",
      "{'artist': 'abc', 'name': 'ali'}\n",
      "plz enter artistasad\n",
      "plz enter nameali\n",
      "{'artist': 'asad', 'name': 'ali'}\n",
      "plz enter artistquit\n",
      "plz enter namequit\n"
     ]
    }
   ],
   "source": [
    "def make_album(artist , name):\n",
    "    dic={\"artist\":artist , \"name\":name}\n",
    "    print(dic)\n",
    "\n",
    "while(True):\n",
    "    artist=input(\"plz enter artist\")\n",
    "    name=input(\"plz enter name\")\n",
    "    if(artist == \"quit\" or name == \"quit\"):\n",
    "        break\n",
    "    else:\n",
    "        make_album(artist , name)"
   ]
  },
  {
   "cell_type": "code",
   "execution_count": 15,
   "metadata": {},
   "outputs": [
    {
     "name": "stdout",
     "output_type": "stream",
     "text": [
      "affan\n",
      "ali\n",
      "raza\n"
     ]
    }
   ],
   "source": [
    "def name_list(name):\n",
    "    for i in name:\n",
    "        print(i)\n",
    "name=[\"affan\" , \"ali\",\"raza\"]\n",
    "name_list(name)"
   ]
  },
  {
   "cell_type": "code",
   "execution_count": 18,
   "metadata": {},
   "outputs": [
    {
     "name": "stdout",
     "output_type": "stream",
     "text": [
      "affan\n",
      "ali\n",
      "raza\n",
      "asad\n"
     ]
    }
   ],
   "source": [
    "def name_listmodify(name , modify):\n",
    "    name.append(modify)\n",
    "    for i in name:\n",
    "        print(i)\n",
    "name=[\"affan\" , \"ali\",\"raza\"]\n",
    "name_listmodify(name , \"asad\")"
   ]
  },
  {
   "cell_type": "code",
   "execution_count": 30,
   "metadata": {},
   "outputs": [
    {
     "name": "stdout",
     "output_type": "stream",
     "text": [
      "['affan', 'ali', 'raza']\n",
      "['affan', 'ali', 'raza', 'asad']\n"
     ]
    }
   ],
   "source": [
    "def name_listmodifyUnchange(name , modify):\n",
    "    name1=name\n",
    "    print(name1)\n",
    "    name.append(modify)\n",
    "    print(name1)\n",
    "name=[\"affan\" , \"ali\",\"raza\"]\n",
    "name_listmodifyUnchange(name , \"asad\")"
   ]
  },
  {
   "cell_type": "code",
   "execution_count": null,
   "metadata": {},
   "outputs": [],
   "source": []
  }
 ],
 "metadata": {
  "kernelspec": {
   "display_name": "Python 3",
   "language": "python",
   "name": "python3"
  },
  "language_info": {
   "codemirror_mode": {
    "name": "ipython",
    "version": 3
   },
   "file_extension": ".py",
   "mimetype": "text/x-python",
   "name": "python",
   "nbconvert_exporter": "python",
   "pygments_lexer": "ipython3",
   "version": "3.8.5"
  }
 },
 "nbformat": 4,
 "nbformat_minor": 4
}
